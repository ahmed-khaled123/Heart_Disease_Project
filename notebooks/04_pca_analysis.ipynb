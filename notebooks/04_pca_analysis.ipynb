{
 "cells": [
  {
   "cell_type": "markdown",
   "id": "bc1aa808",
   "metadata": {},
   "source": [
    "# 02 - PCA Analysis"
   ]
  },
  {
   "cell_type": "code",
   "execution_count": null,
   "id": "7ee15cf8",
   "metadata": {},
   "outputs": [],
   "source": [
    "from src.utils import load_heart_data, split_features_target, get_feature_groups\n",
    "from sklearn.compose import ColumnTransformer\n",
    "from sklearn.pipeline import Pipeline\n",
    "from sklearn.preprocessing import OneHotEncoder, StandardScaler\n",
    "from sklearn.decomposition import PCA\n",
    "import matplotlib.pyplot as plt\n",
    "df = load_heart_data('data/heart_disease.csv', allow_synthetic=True, synthetic_path='data/sample_heart_disease.csv')\n",
    "X, y = split_features_target(df)\n",
    "num, cat = get_feature_groups(X)\n",
    "from sklearn.impute import SimpleImputer\n",
    "pre = ColumnTransformer([\n",
    "    ('num', Pipeline([('imputer', SimpleImputer(strategy='median')),\n",
    "                      ('scaler', StandardScaler())]), num),\n",
    "    ('cat', Pipeline([('imputer', SimpleImputer(strategy='most_frequent')),\n",
    "                      ('onehot', OneHotEncoder(handle_unknown='ignore'))]), cat)\n",
    "])\n",
    "X_prep = pre.fit_transform(X)\n",
    "pca = PCA(n_components=0.95, random_state=42)\n",
    "import scipy.sparse as sp\n",
    "X_arr = X_prep.toarray() if sp.issparse(X_prep) else X_prep\n",
    "X_pca = pca.fit_transform(X_arr)\n",
    "plt.figure(); plt.plot(pca.explained_variance_ratio_.cumsum()); plt.xlabel('Components'); plt.ylabel('Cumulative Variance'); plt.show()"
   ]
  }
 ],
 "metadata": {},
 "nbformat": 4,
 "nbformat_minor": 5
}
