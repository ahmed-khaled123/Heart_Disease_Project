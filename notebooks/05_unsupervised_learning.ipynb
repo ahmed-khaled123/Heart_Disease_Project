{
 "cells": [
  {
   "cell_type": "markdown",
   "id": "0c4636e1",
   "metadata": {},
   "source": [
    "# 05 - Unsupervised Learning"
   ]
  },
  {
   "cell_type": "code",
   "execution_count": null,
   "id": "d5245064",
   "metadata": {},
   "outputs": [],
   "source": [
    "from src.unsupervised import main\n",
    "main()"
   ]
  }
 ],
 "metadata": {},
 "nbformat": 4,
 "nbformat_minor": 5
}
