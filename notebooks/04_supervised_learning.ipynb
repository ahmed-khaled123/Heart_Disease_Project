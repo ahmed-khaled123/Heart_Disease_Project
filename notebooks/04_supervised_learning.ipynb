{
 "cells": [
  {
   "cell_type": "markdown",
   "id": "78c0e934",
   "metadata": {},
   "source": [
    "# 04 - Supervised Learning"
   ]
  },
  {
   "cell_type": "code",
   "execution_count": null,
   "id": "66840d0d",
   "metadata": {},
   "outputs": [],
   "source": [
    "from src.train_eval import main\n",
    "main(train_with_pca=True)"
   ]
  }
 ],
 "metadata": {},
 "nbformat": 4,
 "nbformat_minor": 5
}
