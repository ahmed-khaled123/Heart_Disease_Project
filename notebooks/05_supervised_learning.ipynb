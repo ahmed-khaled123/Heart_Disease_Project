{
 "cells": [
  {
   "cell_type": "markdown",
   "id": "78c0e934",
   "metadata": {},
   "source": [
    "# 04 - Supervised Learning"
   ]
  },
  {
   "cell_type": "code",
   "execution_count": 4,
   "id": "66840d0d",
   "metadata": {},
   "outputs": [
    {
     "name": "stdout",
     "output_type": "stream",
     "text": [
      "Training complete. Best tuned model: {'model': 'RandomForest_Tuned', 'accuracy': 0.8688524590163934, 'precision': 0.8571428571428571, 'recall': 0.8571428571428571, 'f1': 0.8571428571428571, 'roc_auc': 0.9502164502164502}\n"
     ]
    }
   ],
   "source": [
    "\n",
    "import sys\n",
    "sys.path.append(r\"D:\\sprints\\Heart_Disease_Project\")\n",
    "from src.train_eval import main\n",
    "main(train_with_pca=True)"
   ]
  }
 ],
 "metadata": {
  "kernelspec": {
   "display_name": ".venv",
   "language": "python",
   "name": "python3"
  },
  "language_info": {
   "codemirror_mode": {
    "name": "ipython",
    "version": 3
   },
   "file_extension": ".py",
   "mimetype": "text/x-python",
   "name": "python",
   "nbconvert_exporter": "python",
   "pygments_lexer": "ipython3",
   "version": "3.12.8"
  }
 },
 "nbformat": 4,
 "nbformat_minor": 5
}
