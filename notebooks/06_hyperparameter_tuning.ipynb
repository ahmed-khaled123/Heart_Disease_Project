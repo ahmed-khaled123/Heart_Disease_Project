{
 "cells": [
  {
   "cell_type": "markdown",
   "id": "e1102fb9",
   "metadata": {},
   "source": [
    "# 06 - Hyperparameter Tuning"
   ]
  },
  {
   "cell_type": "code",
   "execution_count": null,
   "id": "5600f808",
   "metadata": {},
   "outputs": [],
   "source": [
    "from src.train_eval import main\n",
    "main(train_with_pca=True)"
   ]
  }
 ],
 "metadata": {},
 "nbformat": 4,
 "nbformat_minor": 5
}
