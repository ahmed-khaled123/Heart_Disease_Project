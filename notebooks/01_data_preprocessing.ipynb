{
 "cells": [
  {
   "cell_type": "markdown",
   "id": "71819d06",
   "metadata": {},
   "source": [
    "# 01 - Data Preprocessing & EDA"
   ]
  },
  {
   "cell_type": "code",
   "execution_count": null,
   "id": "d52e6cc2",
   "metadata": {},
   "outputs": [],
   "source": [
    "from src.utils import load_heart_data\n",
    "import seaborn as sns\n",
    "import matplotlib.pyplot as plt\n",
    "df = load_heart_data('data/heart_disease.csv', allow_synthetic=True, synthetic_path='data/sample_heart_disease.csv')\n",
    "df.head()"
   ]
  },
  {
   "cell_type": "code",
   "execution_count": null,
   "id": "f950e5dd",
   "metadata": {},
   "outputs": [],
   "source": [
    "df.info()"
   ]
  },
  {
   "cell_type": "code",
   "execution_count": null,
   "id": "1ec74fe1",
   "metadata": {},
   "outputs": [],
   "source": [
    "df.describe(include='all')"
   ]
  },
  {
   "cell_type": "code",
   "execution_count": null,
   "id": "8fde75d0",
   "metadata": {},
   "outputs": [],
   "source": [
    "import matplotlib.pyplot as plt\n",
    "ax = df.hist(figsize=(12,10))\n",
    "plt.tight_layout(); plt.show()"
   ]
  },
  {
   "cell_type": "code",
   "execution_count": null,
   "id": "a9ac6756",
   "metadata": {},
   "outputs": [],
   "source": [
    "import seaborn as sns\n",
    "import matplotlib.pyplot as plt\n",
    "sns.heatmap(df.corr(numeric_only=True), annot=False)\n",
    "plt.title('Correlation Heatmap')\n",
    "plt.show()"
   ]
  }
 ],
 "metadata": {},
 "nbformat": 4,
 "nbformat_minor": 5
}
