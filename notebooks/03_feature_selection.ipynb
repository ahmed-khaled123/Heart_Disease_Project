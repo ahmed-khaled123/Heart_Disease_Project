{
 "cells": [
  {
   "cell_type": "markdown",
   "id": "575ffb2e",
   "metadata": {},
   "source": [
    "# 03 - Feature Selection"
   ]
  },
  {
   "cell_type": "code",
   "execution_count": null,
   "id": "7a898c60",
   "metadata": {},
   "outputs": [],
   "source": [
    "from src.utils import load_heart_data, split_features_target, get_feature_groups\n",
    "from sklearn.compose import ColumnTransformer\n",
    "from sklearn.pipeline import Pipeline\n",
    "from sklearn.feature_selection import RFE, SelectKBest, chi2\n",
    "from sklearn.preprocessing import OneHotEncoder, StandardScaler\n",
    "from sklearn.linear_model import LogisticRegression\n",
    "from sklearn.impute import SimpleImputer\n",
    "import numpy as np\n",
    "import scipy.sparse as sp\n",
    "df = load_heart_data('data/heart_disease.csv', allow_synthetic=True, synthetic_path='data/sample_heart_disease.csv')\n",
    "X, y = split_features_target(df)\n",
    "num, cat = get_feature_groups(X)\n",
    "pre = ColumnTransformer([\n",
    "    ('num', Pipeline([('imputer', SimpleImputer(strategy='median')),\n",
    "                      ('scaler', StandardScaler())]), num),\n",
    "    ('cat', Pipeline([('imputer', SimpleImputer(strategy='most_frequent')),\n",
    "                      ('onehot', OneHotEncoder(handle_unknown='ignore'))]), cat)\n",
    "])\n",
    "X_prep = pre.fit_transform(X)\n",
    "if sp.issparse(X_prep):\n",
    "    X_prep = X_prep.tocsr()\n",
    "oh_n = pre.named_transformers_['cat']['onehot'].get_feature_names_out().shape[0]\n",
    "oh_start = X_prep.shape[1] - oh_n\n",
    "X_oh = X_prep[:, oh_start:]\n",
    "skb = SelectKBest(score_func=chi2, k=min(10, X_oh.shape[1]))\n",
    "X_oh_sel = skb.fit_transform(X_oh, y)\n",
    "selected_mask = skb.get_support()\n",
    "selected_oh_names = pre.named_transformers_['cat']['onehot'].get_feature_names_out()[selected_mask]\n",
    "selected_oh_names"
   ]
  },
  {
   "cell_type": "code",
   "execution_count": null,
   "id": "76f2d1e6",
   "metadata": {},
   "outputs": [],
   "source": [
    "base_est = LogisticRegression(max_iter=1000)\n",
    "rfe = RFE(estimator=base_est, n_features_to_select=min(10, X_prep.shape[1]))\n",
    "rfe.fit(X_prep, y)\n",
    "sum(rfe.get_support())"
   ]
  }
 ],
 "metadata": {},
 "nbformat": 4,
 "nbformat_minor": 5
}
